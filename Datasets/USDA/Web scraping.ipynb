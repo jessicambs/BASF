{
 "cells": [
  {
   "cell_type": "code",
   "execution_count": 12,
   "id": "b80daf7e",
   "metadata": {},
   "outputs": [],
   "source": [
    "import requests\n",
    "from bs4 import BeautifulSoup\n",
    "import numpy as np\n",
    "import pandas as pd\n",
    "import matplotlib.pyplot as plt\n",
    "source = requests.get(\"https://fdc.nal.usda.gov/fdc-app.html#/food-details/170461/nutrients\").text\n",
    "soup = BeautifulSoup(source, 'lxml')\n"
   ]
  },
  {
   "cell_type": "code",
   "execution_count": 14,
   "id": "56b93a1f",
   "metadata": {},
   "outputs": [
    {
     "ename": "AttributeError",
     "evalue": "'NoneType' object has no attribute 'text'",
     "output_type": "error",
     "traceback": [
      "\u001b[0;31m---------------------------------------------------------------------------\u001b[0m",
      "\u001b[0;31mAttributeError\u001b[0m                            Traceback (most recent call last)",
      "\u001b[0;32m<ipython-input-14-27fb10a63434>\u001b[0m in \u001b[0;36m<module>\u001b[0;34m\u001b[0m\n\u001b[0;32m----> 1\u001b[0;31m \u001b[0mpre\u001b[0m\u001b[0;34m.\u001b[0m\u001b[0mtext\u001b[0m\u001b[0;34m.\u001b[0m\u001b[0mstrip\u001b[0m\u001b[0;34m(\u001b[0m\u001b[0;34m)\u001b[0m\u001b[0;34m\u001b[0m\u001b[0;34m\u001b[0m\u001b[0m\n\u001b[0m",
      "\u001b[0;31mAttributeError\u001b[0m: 'NoneType' object has no attribute 'text'"
     ]
    }
   ],
   "source": [
    "pre.text.strip()"
   ]
  },
  {
   "cell_type": "code",
   "execution_count": null,
   "id": "fe3ab83d",
   "metadata": {},
   "outputs": [],
   "source": [
    "start_text = 'CORN - UNMILLED'\n",
    "end_text = 'OPTIONAL ORIGIN'\n",
    "page_text = pre.text.strip()\n",
    "start_position = page_text.find(start_text)\n",
    "end_position = page_text.find(end_text)\n",
    "table_text = page_text[start_position:end_position]\n",
    "lines = table_text.splitlines()\n",
    "lines = lines[10:-2] # select the countries part"
   ]
  },
  {
   "cell_type": "code",
   "execution_count": 30,
   "id": "e8f6c91b",
   "metadata": {},
   "outputs": [
    {
     "name": "stdout",
     "output_type": "stream",
     "text": [
      "<Response [200]>\n"
     ]
    }
   ],
   "source": [
    "import requests\n",
    "import sys\n",
    "\n",
    "key = sys.argv[1]\n",
    "base = 'https://fdc.nal.usda.gov/fdc-app.html#/food-details/170461/nutrients'\n",
    "url = '%s?api_key=%s' % (base, key)\n",
    "\n",
    "response = requests.get(url)\n",
    "\n",
    "print(response)"
   ]
  },
  {
   "cell_type": "code",
   "execution_count": null,
   "id": "b693e522",
   "metadata": {},
   "outputs": [],
   "source": []
  }
 ],
 "metadata": {
  "kernelspec": {
   "display_name": "Python 3",
   "language": "python",
   "name": "python3"
  },
  "language_info": {
   "codemirror_mode": {
    "name": "ipython",
    "version": 3
   },
   "file_extension": ".py",
   "mimetype": "text/x-python",
   "name": "python",
   "nbconvert_exporter": "python",
   "pygments_lexer": "ipython3",
   "version": "3.8.8"
  }
 },
 "nbformat": 4,
 "nbformat_minor": 5
}
